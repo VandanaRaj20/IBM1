{
 "cells": [
  {
   "cell_type": "markdown",
   "id": "0ba99920",
   "metadata": {},
   "source": [
    " # My First Notebook "
   ]
  },
  {
   "cell_type": "markdown",
   "id": "aa1fd40e",
   "metadata": {},
   "source": [
    "### This is my first notebook that I am going to use for IBM Data Science course. "
   ]
  },
  {
   "cell_type": "markdown",
   "id": "f9fe7566",
   "metadata": {},
   "source": [
    "#### List of languages: Python, SQL, R, Scala, C++, Javascript, Java, Julia "
   ]
  },
  {
   "cell_type": "markdown",
   "id": "4b324718",
   "metadata": {},
   "source": [
    "#### List of data science Libraries : Pandas, Numpy, SciPy, Scikit-learn, Tensorflow, Keras "
   ]
  },
  {
   "cell_type": "markdown",
   "id": "e602453b",
   "metadata": {},
   "source": [
    "## Tools \n",
    "| Tools    | \n",
    "| -------- |\n",
    "| Apache Spark  | \n",
    "| Apache Hadoop |    \n",
    "| Kaggle    |\n",
    "| Keras   |\n",
    "| R Studio. |"
   ]
  },
  {
   "cell_type": "markdown",
   "id": "4ab7b073",
   "metadata": {},
   "source": [
    "## Arithmetic expression \n",
    "${X}^{2} + ({\\alpha} + {\\beta})X + {\\alpha}{\\beta} = 0$"
   ]
  },
  {
   "cell_type": "code",
   "execution_count": 2,
   "id": "5db653b1",
   "metadata": {},
   "outputs": [
    {
     "name": "stdout",
     "output_type": "stream",
     "text": [
      "Enter first number: 2\n",
      "Enter 2nd number: 10\n",
      "The sum is:  12\n",
      "The product is:  20\n"
     ]
    }
   ],
   "source": [
    "n1 = int(input(\"Enter first number: \"))\n",
    "n2 = int(input(\"Enter 2nd number: \"))\n",
    "\n",
    "#to add two numbers\n",
    "sum = n1 + n2\n",
    "\n",
    "#to multiply two numbers\n",
    "product = n1*n2\n",
    "\n",
    "print(\"The sum is: \", sum)\n",
    "print(\"The product is: \", product)\n"
   ]
  },
  {
   "cell_type": "code",
   "execution_count": 3,
   "id": "6bacefd8",
   "metadata": {},
   "outputs": [
    {
     "name": "stdout",
     "output_type": "stream",
     "text": [
      "Enter Minutes : 300\n",
      "Hour : Minute :  5  :  0\n"
     ]
    }
   ],
   "source": [
    "#To convert minutes to hours\n",
    "\n",
    "minute = int(input(\"Enter Minutes : \"))\n",
    "print(\"Hour : Minute : \", int(minute/60), \" : \", minute % 60)"
   ]
  },
  {
   "cell_type": "markdown",
   "id": "2e0fd97a",
   "metadata": {},
   "source": [
    "##### The objective is to help us get an overview of how to use Jupyter Notebook and Github"
   ]
  },
  {
   "cell_type": "markdown",
   "id": "4d9cc5a8",
   "metadata": {},
   "source": [
    "## Done by: Vandana"
   ]
  },
  {
   "cell_type": "code",
   "execution_count": null,
   "id": "5b9de7db",
   "metadata": {},
   "outputs": [],
   "source": []
  }
 ],
 "metadata": {
  "kernelspec": {
   "display_name": "Python 3 (ipykernel)",
   "language": "python",
   "name": "python3"
  },
  "language_info": {
   "codemirror_mode": {
    "name": "ipython",
    "version": 3
   },
   "file_extension": ".py",
   "mimetype": "text/x-python",
   "name": "python",
   "nbconvert_exporter": "python",
   "pygments_lexer": "ipython3",
   "version": "3.10.9"
  }
 },
 "nbformat": 4,
 "nbformat_minor": 5
}
